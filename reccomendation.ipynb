{
 "cells": [
  {
   "cell_type": "markdown",
   "metadata": {},
   "source": [
    "Obtaining Acess Token"
   ]
  },
  {
   "cell_type": "code",
   "execution_count": 1,
   "metadata": {},
   "outputs": [
    {
     "name": "stdout",
     "output_type": "stream",
     "text": [
      "Access token obtained successfully.\n"
     ]
    }
   ],
   "source": [
    "import requests\n",
    "import base64\n",
    "\n",
    "CLIENT_ID = '11bb653f67f44e518bcdd2772b884f96'\n",
    "CLIENT_SECRET = '054420b840f047708d5d3edaad61c02c'\n",
    "\n",
    "#we are doing encoding of client id and client secret in base 64\n",
    "client_credentials = f\"{CLIENT_ID}:{CLIENT_SECRET}\"\n",
    "client_credentials_base64 = base64.b64encode(client_credentials.encode())\n",
    "\n",
    "token_url = 'https://accounts.spotify.com/api/token'\n",
    "headers = {\n",
    "    'Authorization': f'Basic {client_credentials_base64.decode()}'\n",
    "}\n",
    "data = {\n",
    "    'grant_type': 'client_credentials'\n",
    "}\n",
    "response = requests.post(token_url, data=data, headers=headers)\n",
    "\n",
    "if response.status_code == 200:\n",
    "    access_token = response.json()['access_token']\n",
    "    print(\"Access token obtained successfully.\")\n",
    "else:\n",
    "    print(\"Error obtaining access token.\")\n",
    "    exit()"
   ]
  },
  {
   "cell_type": "code",
   "execution_count": 2,
   "metadata": {},
   "outputs": [],
   "source": [
    "import pandas as pd\n",
    "import spotipy\n",
    "from spotipy.oauth2 import SpotifyOAuth\n",
    "\n",
    "def get_trending_playlist_data(playlist_id, access_token):\n",
    "    # Set up Spotipy with the access token\n",
    "    sp = spotipy.Spotify(auth=access_token)\n",
    "\n",
    "    # Get the tracks from the playlist\n",
    "    playlist_tracks = sp.playlist_tracks(playlist_id, fields='items(track(id, name, artists, album(id, name)))')\n",
    "\n",
    "    # Extract relevant information and store in a list of dictionaries\n",
    "    music_data = []\n",
    "    for track_info in playlist_tracks['items']:\n",
    "        track = track_info['track']\n",
    "        track_name = track['name']\n",
    "        artists = ', '.join([artist['name'] for artist in track['artists']])\n",
    "        album_name = track['album']['name']\n",
    "        album_id = track['album']['id']\n",
    "        track_id = track['id']\n",
    "\n",
    "        # Get audio features for the track\n",
    "        audio_features = sp.audio_features(track_id)[0] if track_id != 'Not available' else None\n",
    "\n",
    "        # Get release date of the album\n",
    "        try:\n",
    "            album_info = sp.album(album_id) if album_id != 'Not available' else None\n",
    "            release_date = album_info['release_date'] if album_info else None\n",
    "        except:\n",
    "            release_date = None\n",
    "\n",
    "        # Get popularity of the track\n",
    "        try:\n",
    "            track_info = sp.track(track_id) if track_id != 'Not available' else None\n",
    "            popularity = track_info['popularity'] if track_info else None\n",
    "        except:\n",
    "            popularity = None\n",
    "\n",
    "        # Add additional track information to the track data\n",
    "        track_data = {\n",
    "            'Track Name': track_name,\n",
    "            'Artists': artists,\n",
    "            'Album Name': album_name,\n",
    "            'Album ID': album_id,\n",
    "            'Track ID': track_id,\n",
    "            'Popularity': popularity,\n",
    "            'Release Date': release_date,\n",
    "            'Duration (ms)': audio_features['duration_ms'] if audio_features else None,\n",
    "            'Explicit': track_info.get('explicit', None),\n",
    "            'External URLs': track_info.get('external_urls', {}).get('spotify', None),\n",
    "            'Danceability': audio_features['danceability'] if audio_features else None,\n",
    "            'Energy': audio_features['energy'] if audio_features else None,\n",
    "            'Key': audio_features['key'] if audio_features else None,\n",
    "            'Loudness': audio_features['loudness'] if audio_features else None,\n",
    "            'Mode': audio_features['mode'] if audio_features else None,\n",
    "            'Speechiness': audio_features['speechiness'] if audio_features else None,\n",
    "            'Acousticness': audio_features['acousticness'] if audio_features else None,\n",
    "            'Instrumentalness': audio_features['instrumentalness'] if audio_features else None,\n",
    "            'Liveness': audio_features['liveness'] if audio_features else None,\n",
    "            'Valence': audio_features['valence'] if audio_features else None,\n",
    "            'Tempo': audio_features['tempo'] if audio_features else None,\n",
    "            # Add more attributes as needed\n",
    "        }\n",
    "\n",
    "        music_data.append(track_data)\n",
    "\n",
    "    # Create a pandas DataFrame from the list of dictionaries\n",
    "    df = pd.DataFrame(music_data)\n",
    "\n",
    "    return df"
   ]
  },
  {
   "cell_type": "code",
   "execution_count": 3,
   "metadata": {},
   "outputs": [
    {
     "name": "stdout",
     "output_type": "stream",
     "text": [
      "             Track Name                                            Artists   \n",
      "0        Tumse Hi Tumse                Shekhar Ravjiani, Caralisa Monteiro  \\\n",
      "1   Slow Motion Angreza  Shankar-Ehsaan-Loy, Sukhwinder Singh, Loy Mend...   \n",
      "2           Lamberghini                               The Doorbeen, Ragini   \n",
      "3           Matargashti                                      Mohit Chauhan   \n",
      "4     Kabhi Kabhi Aditi                                         Rashid Ali   \n",
      "..                  ...                                                ...   \n",
      "95      Ainvayi Ainvayi  Salim–Sulaiman, Salim Merchant, Sunidhi Chauha...   \n",
      "96    Gal Mitthi Mitthi                          Amit Trivedi, Tochi Raina   \n",
      "97            Bang Bang           Vishal-Shekhar, Benny Dayal, Neeti Mohan   \n",
      "98      Ude Dil Befikre         Vishal-Shekhar, Benny Dayal, Jaideep Sahni   \n",
      "99        Badtameez Dil               Pritam, Benny Dayal, Shefali Alvares   \n",
      "\n",
      "                                           Album Name                Album ID   \n",
      "0                                     Anjaana Anjaani  6FC95PYKFrO8UYhjCidPZ9  \\\n",
      "1   Bhaag Milkha Bhaag (Original Motion Picture So...  3m5FIubiCHr9mH3BU7ngY4   \n",
      "2                                Lamberghini - Single  0DrkuJJyjj8wsr4wuzRfQF   \n",
      "3                                             Tamasha  2CUXo26JAWIbQx0EVMnjpA   \n",
      "4                             Jaane Tu... Ya Jaane Na  7J5iE51Mk97Mf0BjjwYXUZ   \n",
      "..                                                ...                     ...   \n",
      "95                                 Band Baaja Baaraat  7AYweNv9TK4bWe1zP2rcRU   \n",
      "96         Aisha (Original Motion Picture Soundtrack)  4h2SfJt00zfnnoQSCuOmkc   \n",
      "97     Bang Bang (Original Motion Picture Soundtrack)  5zhx5FG1P3Rc9Ufbr9bIgF   \n",
      "98                                            Befikre  2NdNeBKi8ctKgKRH5UGRbO   \n",
      "99                            Yeh Jawaani Hai Deewani  2Lxoc72vRTGdQfMvj7Ovi1   \n",
      "\n",
      "                  Track ID  Popularity Release Date  Duration (ms)  Explicit   \n",
      "0   6qNyL8lZuqFmy9ginJRQOZ          58   2010-08-19         261559     False  \\\n",
      "1   0JX7Es2j556FwtR6YqMKzP          58   2013-06-14         260507     False   \n",
      "2   45P9g6kUb7itdonjjGjDdS          52   2018-02-26         216999     False   \n",
      "3   5GeBgck1MU2tlIkMpsn8uT          68   2015-10-16         328052     False   \n",
      "4   3APdIdF8H0jsxSuGOqXedS          71   2008-05-21         218836     False   \n",
      "..                     ...         ...          ...            ...       ...   \n",
      "95  74AqVxZ3oXwJ8olHssBUG3          65   2010-03-11         267624     False   \n",
      "96  4J9n7thOdqi8gxRGNyQoVC          61   2010-07-05         255907     False   \n",
      "97  5R7HpWXej6SiCrd9YJsC5g           0   2014-09-19         320000     False   \n",
      "98  0hgTkEDY9oIG5DPKN39KHP          61   2016-12-01         231327     False   \n",
      "99  4eu27jAU2bbnyHUC3G75U8          68   2013-03-30         252760     False   \n",
      "\n",
      "                                        External URLs  ...  Energy  Key   \n",
      "0   https://open.spotify.com/track/6qNyL8lZuqFmy9g...  ...   0.526    0  \\\n",
      "1   https://open.spotify.com/track/0JX7Es2j556FwtR...  ...   0.763    0   \n",
      "2   https://open.spotify.com/track/45P9g6kUb7itdon...  ...   0.584   11   \n",
      "3   https://open.spotify.com/track/5GeBgck1MU2tlIk...  ...   0.630    0   \n",
      "4   https://open.spotify.com/track/3APdIdF8H0jsxSu...  ...   0.558    7   \n",
      "..                                                ...  ...     ...  ...   \n",
      "95  https://open.spotify.com/track/74AqVxZ3oXwJ8ol...  ...   0.742    3   \n",
      "96  https://open.spotify.com/track/4J9n7thOdqi8gxR...  ...   0.699    0   \n",
      "97  https://open.spotify.com/track/5R7HpWXej6SiCrd...  ...   0.678    4   \n",
      "98  https://open.spotify.com/track/0hgTkEDY9oIG5DP...  ...   0.952    0   \n",
      "99  https://open.spotify.com/track/4eu27jAU2bbnyHU...  ...   0.932    2   \n",
      "\n",
      "    Loudness  Mode  Speechiness  Acousticness  Instrumentalness  Liveness   \n",
      "0     -6.246     1       0.0355        0.0981          0.471000    0.1020  \\\n",
      "1     -6.456     1       0.0336        0.2200          0.000396    0.1280   \n",
      "2     -7.570     1       0.0518        0.5430          0.000000    0.0786   \n",
      "3     -6.741     1       0.0682        0.1020          0.000000    0.0758   \n",
      "4     -7.155     0       0.0661        0.2760          0.000000    0.0859   \n",
      "..       ...   ...          ...           ...               ...       ...   \n",
      "95    -7.571     0       0.0413        0.0339          0.004600    0.0928   \n",
      "96    -5.526     1       0.0462        0.1300          0.016500    0.1780   \n",
      "97    -8.644     0       0.0417        0.0478          0.000070    0.4960   \n",
      "98    -2.331     0       0.0333        0.0408          0.000000    0.3350   \n",
      "99    -2.228     0       0.0684        0.2400          0.000000    0.2160   \n",
      "\n",
      "    Valence    Tempo  \n",
      "0     0.774   92.015  \n",
      "1     0.789  120.078  \n",
      "2     0.861  104.007  \n",
      "3     0.659  100.022  \n",
      "4     0.872   95.077  \n",
      "..      ...      ...  \n",
      "95    0.876  155.986  \n",
      "96    0.938  129.946  \n",
      "97    0.694  120.051  \n",
      "98    0.902  106.990  \n",
      "99    0.792  106.021  \n",
      "\n",
      "[100 rows x 21 columns]\n"
     ]
    }
   ],
   "source": [
    "playlist_id = '3bQy66sMaRDIUIsS7UQnuO'\n",
    "music_df = get_trending_playlist_data(playlist_id, access_token)\n",
    "print(music_df)"
   ]
  },
  {
   "cell_type": "code",
   "execution_count": 4,
   "metadata": {},
   "outputs": [
    {
     "name": "stdout",
     "output_type": "stream",
     "text": [
      "Track Name          0\n",
      "Artists             0\n",
      "Album Name          0\n",
      "Album ID            0\n",
      "Track ID            0\n",
      "Popularity          0\n",
      "Release Date        0\n",
      "Duration (ms)       0\n",
      "Explicit            0\n",
      "External URLs       0\n",
      "Danceability        0\n",
      "Energy              0\n",
      "Key                 0\n",
      "Loudness            0\n",
      "Mode                0\n",
      "Speechiness         0\n",
      "Acousticness        0\n",
      "Instrumentalness    0\n",
      "Liveness            0\n",
      "Valence             0\n",
      "Tempo               0\n",
      "dtype: int64\n"
     ]
    }
   ],
   "source": [
    "print(music_df.isnull().sum())"
   ]
  },
  {
   "cell_type": "code",
   "execution_count": 5,
   "metadata": {},
   "outputs": [],
   "source": [
    "import pandas as pd\n",
    "import numpy as np\n",
    "from sklearn.model_selection import train_test_split\n",
    "from sklearn.preprocessing import MinMaxScaler\n",
    "from datetime import datetime\n",
    "from sklearn.metrics.pairwise import cosine_similarity\n",
    "\n",
    "data=music_df"
   ]
  },
  {
   "cell_type": "markdown",
   "metadata": {},
   "source": [
    "For building recopmmendation system, we need to give more weight to the latest release (for recommending latest releases)"
   ]
  },
  {
   "cell_type": "code",
   "execution_count": 6,
   "metadata": {},
   "outputs": [],
   "source": [
    "def calculate_weighted_popularity(release_date):\n",
    "    release_date=datetime.strptime(release_date,'%Y-%m-%d')\n",
    "    time_span=datetime.now()-release_date\n",
    "    weight=1/(time_span.days+1)\n",
    "    return weight"
   ]
  },
  {
   "cell_type": "code",
   "execution_count": 7,
   "metadata": {},
   "outputs": [],
   "source": [
    "scaler=MinMaxScaler()\n",
    "music_features=music_df[['Danceability', 'Energy', 'Key', \n",
    "                        'Loudness', 'Mode', 'Speechiness', 'Acousticness',\n",
    "                        'Instrumentalness', 'Liveness', 'Valence', 'Tempo']].values\n",
    "music_features_scaled=scaler.fit_transform(music_features)"
   ]
  },
  {
   "cell_type": "markdown",
   "metadata": {},
   "source": [
    "generating music recommendation system based on music features"
   ]
  },
  {
   "cell_type": "code",
   "execution_count": 8,
   "metadata": {},
   "outputs": [],
   "source": [
    "def content_based_recommendations(input_song_name, num_recommendations=5):\n",
    "    if input_song_name not in music_df['Track Name'].values:\n",
    "        print(f\"'{input_song_name}' not found in our dataset.Pleas enter\")\n",
    "        return\n",
    "    \n",
    "    input_song_index=music_df[music_df['Track Name']==input_song_name].index[0]\n",
    "    similarity_scores = cosine_similarity([music_features_scaled[input_song_index]], music_features_scaled)\n",
    "    similar_song_indices = similarity_scores.argsort()[0][::-1][1:num_recommendations + 1]\n",
    "    content_based_recommendations = music_df.iloc[similar_song_indices][['Track Name', 'Artists', 'Album Name', 'Release Date', 'Popularity']]\n",
    "    return content_based_recommendations"
   ]
  },
  {
   "cell_type": "markdown",
   "metadata": {},
   "source": [
    "generating music recommendations based on the weighted popularity"
   ]
  },
  {
   "cell_type": "code",
   "execution_count": 10,
   "metadata": {},
   "outputs": [],
   "source": [
    "def hybrid_recommendations(input_song_name, num_recommendations=5, alpha=0.5):\n",
    "    if input_song_name not in music_df['Track Name'].values:\n",
    "        print(f\"'{input_song_name}' not found in the dataset. Please enter a valid song name.\")\n",
    "        return\n",
    "    \n",
    "    content_based_rec = content_based_recommendations(input_song_name, num_recommendations)\n",
    "    \n",
    "    popularity_score = music_df.loc[music_df['Track Name'] == input_song_name, 'Popularity'].values[0]\n",
    "    \n",
    "    weighted_popularity_score = popularity_score * calculate_weighted_popularity(music_df.loc[music_df['Track Name'] == input_song_name, 'Release Date'].values[0])\n",
    "    \n",
    "    # Combine content-based and popularity-based recommendations based on weighted popularity\n",
    "    hybrid_recommendations = content_based_rec\n",
    "    new_row = {\n",
    "    'Track Name': input_song_name,\n",
    "    'Artists': music_df.loc[music_df['Track Name'] == input_song_name, 'Artists'].values[0],\n",
    "    'Album Name': music_df.loc[music_df['Track Name'] == input_song_name, 'Album Name'].values[0],\n",
    "    'Release Date': music_df.loc[music_df['Track Name'] == input_song_name, 'Release Date'].values[0],\n",
    "    'Popularity': weighted_popularity_score\n",
    "}\n",
    "\n",
    "# Convert the dictionary to a DataFrame\n",
    "    new_row_df = pd.DataFrame([new_row])\n",
    "\n",
    "    # Concatenate the new DataFrame with the existing hybrid_recommendations DataFrame\n",
    "    hybrid_recommendations = pd.concat([hybrid_recommendations, new_row_df], ignore_index=True)\n",
    "\n",
    "        \n",
    "    hybrid_recommendations = hybrid_recommendations.sort_values(by='Popularity', ascending=False)\n",
    "    hybrid_recommendations = hybrid_recommendations[hybrid_recommendations['Track Name'] != input_song_name]\n",
    "        \n",
    "    return hybrid_recommendations\n",
    "\n"
   ]
  },
  {
   "cell_type": "code",
   "execution_count": 11,
   "metadata": {},
   "outputs": [
    {
     "name": "stdout",
     "output_type": "stream",
     "text": [
      "Hybrid recommended songs for 'Ude Dil Befikre':\n",
      "                       Track Name                               Artists   \n",
      "3                   Badtameez Dil  Pritam, Benny Dayal, Shefali Alvares  \\\n",
      "4                       Sadi Gali                   Lehmber Hussainpuri   \n",
      "0                Character Dheela   Pritam, Neeraj Shridhar, Amrita Kak   \n",
      "2                       Suit Suit                  Guru Randhawa, Arjun   \n",
      "1  Coca Cola (From \"Luka Chuppi\")  Tony Kakkar, Neha Kakkar, Young Desi   \n",
      "\n",
      "                Album Name Release Date  Popularity  \n",
      "3  Yeh Jawaani Hai Deewani   2013-03-30        68.0  \n",
      "4           Tanu Weds Manu   2011-02-02        64.0  \n",
      "0                    Ready   2011-04-25        62.0  \n",
      "2             Hindi Medium   2017-04-21        59.0  \n",
      "1       Frolic Neha Kakkar   2019-02-28        33.0  \n"
     ]
    }
   ],
   "source": [
    "input_song_name = \"Ude Dil Befikre\"\n",
    "recommendations = hybrid_recommendations(input_song_name, num_recommendations=5)\n",
    "print(f\"Hybrid recommended songs for '{input_song_name}':\")\n",
    "print(recommendations)"
   ]
  }
 ],
 "metadata": {
  "kernelspec": {
   "display_name": "Python 3",
   "language": "python",
   "name": "python3"
  },
  "language_info": {
   "codemirror_mode": {
    "name": "ipython",
    "version": 3
   },
   "file_extension": ".py",
   "mimetype": "text/x-python",
   "name": "python",
   "nbconvert_exporter": "python",
   "pygments_lexer": "ipython3",
   "version": "3.11.2"
  }
 },
 "nbformat": 4,
 "nbformat_minor": 2
}
